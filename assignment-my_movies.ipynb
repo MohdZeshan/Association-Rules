{
 "cells": [
  {
   "cell_type": "code",
   "execution_count": 71,
   "id": "9a619498",
   "metadata": {},
   "outputs": [],
   "source": [
    "import pandas as pd\n",
    "from mlxtend.frequent_patterns import apriori,association_rules\n",
    "from mlxtend.preprocessing import TransactionEncoder\n",
    "import matplotlib.pyplot as plt"
   ]
  },
  {
   "cell_type": "code",
   "execution_count": 35,
   "id": "a1be4244",
   "metadata": {},
   "outputs": [],
   "source": [
    "data=pd.read_csv(\"E:\\\\data science\\\\assiments\\\\9\\\\my_movies.csv\")"
   ]
  },
  {
   "cell_type": "code",
   "execution_count": 36,
   "id": "8c1d7f9b",
   "metadata": {},
   "outputs": [
    {
     "data": {
      "text/html": [
       "<div>\n",
       "<style scoped>\n",
       "    .dataframe tbody tr th:only-of-type {\n",
       "        vertical-align: middle;\n",
       "    }\n",
       "\n",
       "    .dataframe tbody tr th {\n",
       "        vertical-align: top;\n",
       "    }\n",
       "\n",
       "    .dataframe thead th {\n",
       "        text-align: right;\n",
       "    }\n",
       "</style>\n",
       "<table border=\"1\" class=\"dataframe\">\n",
       "  <thead>\n",
       "    <tr style=\"text-align: right;\">\n",
       "      <th></th>\n",
       "      <th>V1</th>\n",
       "      <th>V2</th>\n",
       "      <th>V3</th>\n",
       "      <th>V4</th>\n",
       "      <th>V5</th>\n",
       "      <th>Sixth Sense</th>\n",
       "      <th>Gladiator</th>\n",
       "      <th>LOTR1</th>\n",
       "      <th>Harry Potter1</th>\n",
       "      <th>Patriot</th>\n",
       "      <th>LOTR2</th>\n",
       "      <th>Harry Potter2</th>\n",
       "      <th>LOTR</th>\n",
       "      <th>Braveheart</th>\n",
       "      <th>Green Mile</th>\n",
       "    </tr>\n",
       "  </thead>\n",
       "  <tbody>\n",
       "    <tr>\n",
       "      <th>0</th>\n",
       "      <td>Sixth Sense</td>\n",
       "      <td>LOTR1</td>\n",
       "      <td>Harry Potter1</td>\n",
       "      <td>Green Mile</td>\n",
       "      <td>LOTR2</td>\n",
       "      <td>1</td>\n",
       "      <td>0</td>\n",
       "      <td>1</td>\n",
       "      <td>1</td>\n",
       "      <td>0</td>\n",
       "      <td>1</td>\n",
       "      <td>0</td>\n",
       "      <td>0</td>\n",
       "      <td>0</td>\n",
       "      <td>1</td>\n",
       "    </tr>\n",
       "    <tr>\n",
       "      <th>1</th>\n",
       "      <td>Gladiator</td>\n",
       "      <td>Patriot</td>\n",
       "      <td>Braveheart</td>\n",
       "      <td>NaN</td>\n",
       "      <td>NaN</td>\n",
       "      <td>0</td>\n",
       "      <td>1</td>\n",
       "      <td>0</td>\n",
       "      <td>0</td>\n",
       "      <td>1</td>\n",
       "      <td>0</td>\n",
       "      <td>0</td>\n",
       "      <td>0</td>\n",
       "      <td>1</td>\n",
       "      <td>0</td>\n",
       "    </tr>\n",
       "    <tr>\n",
       "      <th>2</th>\n",
       "      <td>LOTR1</td>\n",
       "      <td>LOTR2</td>\n",
       "      <td>NaN</td>\n",
       "      <td>NaN</td>\n",
       "      <td>NaN</td>\n",
       "      <td>0</td>\n",
       "      <td>0</td>\n",
       "      <td>1</td>\n",
       "      <td>0</td>\n",
       "      <td>0</td>\n",
       "      <td>1</td>\n",
       "      <td>0</td>\n",
       "      <td>0</td>\n",
       "      <td>0</td>\n",
       "      <td>0</td>\n",
       "    </tr>\n",
       "    <tr>\n",
       "      <th>3</th>\n",
       "      <td>Gladiator</td>\n",
       "      <td>Patriot</td>\n",
       "      <td>Sixth Sense</td>\n",
       "      <td>NaN</td>\n",
       "      <td>NaN</td>\n",
       "      <td>1</td>\n",
       "      <td>1</td>\n",
       "      <td>0</td>\n",
       "      <td>0</td>\n",
       "      <td>1</td>\n",
       "      <td>0</td>\n",
       "      <td>0</td>\n",
       "      <td>0</td>\n",
       "      <td>0</td>\n",
       "      <td>0</td>\n",
       "    </tr>\n",
       "    <tr>\n",
       "      <th>4</th>\n",
       "      <td>Gladiator</td>\n",
       "      <td>Patriot</td>\n",
       "      <td>Sixth Sense</td>\n",
       "      <td>NaN</td>\n",
       "      <td>NaN</td>\n",
       "      <td>1</td>\n",
       "      <td>1</td>\n",
       "      <td>0</td>\n",
       "      <td>0</td>\n",
       "      <td>1</td>\n",
       "      <td>0</td>\n",
       "      <td>0</td>\n",
       "      <td>0</td>\n",
       "      <td>0</td>\n",
       "      <td>0</td>\n",
       "    </tr>\n",
       "    <tr>\n",
       "      <th>5</th>\n",
       "      <td>Gladiator</td>\n",
       "      <td>Patriot</td>\n",
       "      <td>Sixth Sense</td>\n",
       "      <td>NaN</td>\n",
       "      <td>NaN</td>\n",
       "      <td>1</td>\n",
       "      <td>1</td>\n",
       "      <td>0</td>\n",
       "      <td>0</td>\n",
       "      <td>1</td>\n",
       "      <td>0</td>\n",
       "      <td>0</td>\n",
       "      <td>0</td>\n",
       "      <td>0</td>\n",
       "      <td>0</td>\n",
       "    </tr>\n",
       "    <tr>\n",
       "      <th>6</th>\n",
       "      <td>Harry Potter1</td>\n",
       "      <td>Harry Potter2</td>\n",
       "      <td>NaN</td>\n",
       "      <td>NaN</td>\n",
       "      <td>NaN</td>\n",
       "      <td>0</td>\n",
       "      <td>0</td>\n",
       "      <td>0</td>\n",
       "      <td>1</td>\n",
       "      <td>0</td>\n",
       "      <td>0</td>\n",
       "      <td>1</td>\n",
       "      <td>0</td>\n",
       "      <td>0</td>\n",
       "      <td>0</td>\n",
       "    </tr>\n",
       "    <tr>\n",
       "      <th>7</th>\n",
       "      <td>Gladiator</td>\n",
       "      <td>Patriot</td>\n",
       "      <td>NaN</td>\n",
       "      <td>NaN</td>\n",
       "      <td>NaN</td>\n",
       "      <td>0</td>\n",
       "      <td>1</td>\n",
       "      <td>0</td>\n",
       "      <td>0</td>\n",
       "      <td>1</td>\n",
       "      <td>0</td>\n",
       "      <td>0</td>\n",
       "      <td>0</td>\n",
       "      <td>0</td>\n",
       "      <td>0</td>\n",
       "    </tr>\n",
       "    <tr>\n",
       "      <th>8</th>\n",
       "      <td>Gladiator</td>\n",
       "      <td>Patriot</td>\n",
       "      <td>Sixth Sense</td>\n",
       "      <td>NaN</td>\n",
       "      <td>NaN</td>\n",
       "      <td>1</td>\n",
       "      <td>1</td>\n",
       "      <td>0</td>\n",
       "      <td>0</td>\n",
       "      <td>1</td>\n",
       "      <td>0</td>\n",
       "      <td>0</td>\n",
       "      <td>0</td>\n",
       "      <td>0</td>\n",
       "      <td>0</td>\n",
       "    </tr>\n",
       "    <tr>\n",
       "      <th>9</th>\n",
       "      <td>Sixth Sense</td>\n",
       "      <td>LOTR</td>\n",
       "      <td>Gladiator</td>\n",
       "      <td>Green Mile</td>\n",
       "      <td>NaN</td>\n",
       "      <td>1</td>\n",
       "      <td>1</td>\n",
       "      <td>0</td>\n",
       "      <td>0</td>\n",
       "      <td>0</td>\n",
       "      <td>0</td>\n",
       "      <td>0</td>\n",
       "      <td>1</td>\n",
       "      <td>0</td>\n",
       "      <td>1</td>\n",
       "    </tr>\n",
       "  </tbody>\n",
       "</table>\n",
       "</div>"
      ],
      "text/plain": [
       "              V1             V2             V3          V4     V5  \\\n",
       "0    Sixth Sense          LOTR1  Harry Potter1  Green Mile  LOTR2   \n",
       "1      Gladiator        Patriot     Braveheart         NaN    NaN   \n",
       "2          LOTR1          LOTR2            NaN         NaN    NaN   \n",
       "3      Gladiator        Patriot    Sixth Sense         NaN    NaN   \n",
       "4      Gladiator        Patriot    Sixth Sense         NaN    NaN   \n",
       "5      Gladiator        Patriot    Sixth Sense         NaN    NaN   \n",
       "6  Harry Potter1  Harry Potter2            NaN         NaN    NaN   \n",
       "7      Gladiator        Patriot            NaN         NaN    NaN   \n",
       "8      Gladiator        Patriot    Sixth Sense         NaN    NaN   \n",
       "9    Sixth Sense           LOTR      Gladiator  Green Mile    NaN   \n",
       "\n",
       "   Sixth Sense  Gladiator  LOTR1  Harry Potter1  Patriot  LOTR2  \\\n",
       "0            1          0      1              1        0      1   \n",
       "1            0          1      0              0        1      0   \n",
       "2            0          0      1              0        0      1   \n",
       "3            1          1      0              0        1      0   \n",
       "4            1          1      0              0        1      0   \n",
       "5            1          1      0              0        1      0   \n",
       "6            0          0      0              1        0      0   \n",
       "7            0          1      0              0        1      0   \n",
       "8            1          1      0              0        1      0   \n",
       "9            1          1      0              0        0      0   \n",
       "\n",
       "   Harry Potter2  LOTR  Braveheart  Green Mile  \n",
       "0              0     0           0           1  \n",
       "1              0     0           1           0  \n",
       "2              0     0           0           0  \n",
       "3              0     0           0           0  \n",
       "4              0     0           0           0  \n",
       "5              0     0           0           0  \n",
       "6              1     0           0           0  \n",
       "7              0     0           0           0  \n",
       "8              0     0           0           0  \n",
       "9              0     1           0           1  "
      ]
     },
     "execution_count": 36,
     "metadata": {},
     "output_type": "execute_result"
    }
   ],
   "source": [
    "data"
   ]
  },
  {
   "cell_type": "code",
   "execution_count": 37,
   "id": "9ae20299",
   "metadata": {},
   "outputs": [],
   "source": [
    "data=data.iloc[:,5:]"
   ]
  },
  {
   "cell_type": "code",
   "execution_count": 43,
   "id": "29dea5ad",
   "metadata": {},
   "outputs": [
    {
     "data": {
      "text/plain": [
       "0.1"
      ]
     },
     "execution_count": 43,
     "metadata": {},
     "output_type": "execute_result"
    }
   ],
   "source": [
    "min(data.mean())"
   ]
  },
  {
   "cell_type": "code",
   "execution_count": 44,
   "id": "ece1905d",
   "metadata": {},
   "outputs": [
    {
     "data": {
      "text/plain": [
       "0.7"
      ]
     },
     "execution_count": 44,
     "metadata": {},
     "output_type": "execute_result"
    }
   ],
   "source": [
    "max(data.mean())"
   ]
  },
  {
   "cell_type": "markdown",
   "id": "2db9fdc4",
   "metadata": {},
   "source": [
    "# Apriori Algorithm"
   ]
  },
  {
   "cell_type": "code",
   "execution_count": 67,
   "id": "a0a2c69d",
   "metadata": {},
   "outputs": [
    {
     "data": {
      "text/html": [
       "<div>\n",
       "<style scoped>\n",
       "    .dataframe tbody tr th:only-of-type {\n",
       "        vertical-align: middle;\n",
       "    }\n",
       "\n",
       "    .dataframe tbody tr th {\n",
       "        vertical-align: top;\n",
       "    }\n",
       "\n",
       "    .dataframe thead th {\n",
       "        text-align: right;\n",
       "    }\n",
       "</style>\n",
       "<table border=\"1\" class=\"dataframe\">\n",
       "  <thead>\n",
       "    <tr style=\"text-align: right;\">\n",
       "      <th></th>\n",
       "      <th>support</th>\n",
       "      <th>itemsets</th>\n",
       "    </tr>\n",
       "  </thead>\n",
       "  <tbody>\n",
       "    <tr>\n",
       "      <th>0</th>\n",
       "      <td>0.6</td>\n",
       "      <td>(Sixth Sense)</td>\n",
       "    </tr>\n",
       "    <tr>\n",
       "      <th>1</th>\n",
       "      <td>0.7</td>\n",
       "      <td>(Gladiator)</td>\n",
       "    </tr>\n",
       "    <tr>\n",
       "      <th>2</th>\n",
       "      <td>0.2</td>\n",
       "      <td>(LOTR1)</td>\n",
       "    </tr>\n",
       "    <tr>\n",
       "      <th>3</th>\n",
       "      <td>0.2</td>\n",
       "      <td>(Harry Potter1)</td>\n",
       "    </tr>\n",
       "    <tr>\n",
       "      <th>4</th>\n",
       "      <td>0.6</td>\n",
       "      <td>(Patriot)</td>\n",
       "    </tr>\n",
       "    <tr>\n",
       "      <th>5</th>\n",
       "      <td>0.2</td>\n",
       "      <td>(LOTR2)</td>\n",
       "    </tr>\n",
       "    <tr>\n",
       "      <th>6</th>\n",
       "      <td>0.2</td>\n",
       "      <td>(Green Mile)</td>\n",
       "    </tr>\n",
       "    <tr>\n",
       "      <th>7</th>\n",
       "      <td>0.5</td>\n",
       "      <td>(Sixth Sense, Gladiator)</td>\n",
       "    </tr>\n",
       "    <tr>\n",
       "      <th>8</th>\n",
       "      <td>0.4</td>\n",
       "      <td>(Patriot, Sixth Sense)</td>\n",
       "    </tr>\n",
       "    <tr>\n",
       "      <th>9</th>\n",
       "      <td>0.2</td>\n",
       "      <td>(Sixth Sense, Green Mile)</td>\n",
       "    </tr>\n",
       "    <tr>\n",
       "      <th>10</th>\n",
       "      <td>0.6</td>\n",
       "      <td>(Patriot, Gladiator)</td>\n",
       "    </tr>\n",
       "    <tr>\n",
       "      <th>11</th>\n",
       "      <td>0.2</td>\n",
       "      <td>(LOTR2, LOTR1)</td>\n",
       "    </tr>\n",
       "    <tr>\n",
       "      <th>12</th>\n",
       "      <td>0.4</td>\n",
       "      <td>(Patriot, Sixth Sense, Gladiator)</td>\n",
       "    </tr>\n",
       "  </tbody>\n",
       "</table>\n",
       "</div>"
      ],
      "text/plain": [
       "    support                           itemsets\n",
       "0       0.6                      (Sixth Sense)\n",
       "1       0.7                        (Gladiator)\n",
       "2       0.2                            (LOTR1)\n",
       "3       0.2                    (Harry Potter1)\n",
       "4       0.6                          (Patriot)\n",
       "5       0.2                            (LOTR2)\n",
       "6       0.2                       (Green Mile)\n",
       "7       0.5           (Sixth Sense, Gladiator)\n",
       "8       0.4             (Patriot, Sixth Sense)\n",
       "9       0.2          (Sixth Sense, Green Mile)\n",
       "10      0.6               (Patriot, Gladiator)\n",
       "11      0.2                     (LOTR2, LOTR1)\n",
       "12      0.4  (Patriot, Sixth Sense, Gladiator)"
      ]
     },
     "execution_count": 67,
     "metadata": {},
     "output_type": "execute_result"
    }
   ],
   "source": [
    "frequent_itemsets = apriori(data, min_support=0.2, use_colnames=True, max_len=3)\n",
    "frequent_itemsets"
   ]
  },
  {
   "cell_type": "markdown",
   "id": "50eead37",
   "metadata": {},
   "source": [
    "# Association Rules"
   ]
  },
  {
   "cell_type": "code",
   "execution_count": 58,
   "id": "7fc3db2f",
   "metadata": {},
   "outputs": [
    {
     "data": {
      "text/html": [
       "<div>\n",
       "<style scoped>\n",
       "    .dataframe tbody tr th:only-of-type {\n",
       "        vertical-align: middle;\n",
       "    }\n",
       "\n",
       "    .dataframe tbody tr th {\n",
       "        vertical-align: top;\n",
       "    }\n",
       "\n",
       "    .dataframe thead th {\n",
       "        text-align: right;\n",
       "    }\n",
       "</style>\n",
       "<table border=\"1\" class=\"dataframe\">\n",
       "  <thead>\n",
       "    <tr style=\"text-align: right;\">\n",
       "      <th></th>\n",
       "      <th>antecedents</th>\n",
       "      <th>consequents</th>\n",
       "      <th>antecedent support</th>\n",
       "      <th>consequent support</th>\n",
       "      <th>support</th>\n",
       "      <th>confidence</th>\n",
       "      <th>lift</th>\n",
       "      <th>leverage</th>\n",
       "      <th>conviction</th>\n",
       "    </tr>\n",
       "  </thead>\n",
       "  <tbody>\n",
       "    <tr>\n",
       "      <th>0</th>\n",
       "      <td>(Sixth Sense)</td>\n",
       "      <td>(Gladiator)</td>\n",
       "      <td>0.6</td>\n",
       "      <td>0.7</td>\n",
       "      <td>0.5</td>\n",
       "      <td>0.833333</td>\n",
       "      <td>1.190476</td>\n",
       "      <td>0.08</td>\n",
       "      <td>1.8</td>\n",
       "    </tr>\n",
       "    <tr>\n",
       "      <th>1</th>\n",
       "      <td>(Gladiator)</td>\n",
       "      <td>(Sixth Sense)</td>\n",
       "      <td>0.7</td>\n",
       "      <td>0.6</td>\n",
       "      <td>0.5</td>\n",
       "      <td>0.714286</td>\n",
       "      <td>1.190476</td>\n",
       "      <td>0.08</td>\n",
       "      <td>1.4</td>\n",
       "    </tr>\n",
       "    <tr>\n",
       "      <th>2</th>\n",
       "      <td>(Green Mile)</td>\n",
       "      <td>(Sixth Sense)</td>\n",
       "      <td>0.2</td>\n",
       "      <td>0.6</td>\n",
       "      <td>0.2</td>\n",
       "      <td>1.000000</td>\n",
       "      <td>1.666667</td>\n",
       "      <td>0.08</td>\n",
       "      <td>inf</td>\n",
       "    </tr>\n",
       "    <tr>\n",
       "      <th>3</th>\n",
       "      <td>(Patriot)</td>\n",
       "      <td>(Gladiator)</td>\n",
       "      <td>0.6</td>\n",
       "      <td>0.7</td>\n",
       "      <td>0.6</td>\n",
       "      <td>1.000000</td>\n",
       "      <td>1.428571</td>\n",
       "      <td>0.18</td>\n",
       "      <td>inf</td>\n",
       "    </tr>\n",
       "    <tr>\n",
       "      <th>4</th>\n",
       "      <td>(Gladiator)</td>\n",
       "      <td>(Patriot)</td>\n",
       "      <td>0.7</td>\n",
       "      <td>0.6</td>\n",
       "      <td>0.6</td>\n",
       "      <td>0.857143</td>\n",
       "      <td>1.428571</td>\n",
       "      <td>0.18</td>\n",
       "      <td>2.8</td>\n",
       "    </tr>\n",
       "    <tr>\n",
       "      <th>5</th>\n",
       "      <td>(LOTR2)</td>\n",
       "      <td>(LOTR1)</td>\n",
       "      <td>0.2</td>\n",
       "      <td>0.2</td>\n",
       "      <td>0.2</td>\n",
       "      <td>1.000000</td>\n",
       "      <td>5.000000</td>\n",
       "      <td>0.16</td>\n",
       "      <td>inf</td>\n",
       "    </tr>\n",
       "    <tr>\n",
       "      <th>6</th>\n",
       "      <td>(LOTR1)</td>\n",
       "      <td>(LOTR2)</td>\n",
       "      <td>0.2</td>\n",
       "      <td>0.2</td>\n",
       "      <td>0.2</td>\n",
       "      <td>1.000000</td>\n",
       "      <td>5.000000</td>\n",
       "      <td>0.16</td>\n",
       "      <td>inf</td>\n",
       "    </tr>\n",
       "    <tr>\n",
       "      <th>7</th>\n",
       "      <td>(Patriot, Sixth Sense)</td>\n",
       "      <td>(Gladiator)</td>\n",
       "      <td>0.4</td>\n",
       "      <td>0.7</td>\n",
       "      <td>0.4</td>\n",
       "      <td>1.000000</td>\n",
       "      <td>1.428571</td>\n",
       "      <td>0.12</td>\n",
       "      <td>inf</td>\n",
       "    </tr>\n",
       "    <tr>\n",
       "      <th>8</th>\n",
       "      <td>(Sixth Sense, Gladiator)</td>\n",
       "      <td>(Patriot)</td>\n",
       "      <td>0.5</td>\n",
       "      <td>0.6</td>\n",
       "      <td>0.4</td>\n",
       "      <td>0.800000</td>\n",
       "      <td>1.333333</td>\n",
       "      <td>0.10</td>\n",
       "      <td>2.0</td>\n",
       "    </tr>\n",
       "  </tbody>\n",
       "</table>\n",
       "</div>"
      ],
      "text/plain": [
       "                antecedents    consequents  antecedent support  \\\n",
       "0             (Sixth Sense)    (Gladiator)                 0.6   \n",
       "1               (Gladiator)  (Sixth Sense)                 0.7   \n",
       "2              (Green Mile)  (Sixth Sense)                 0.2   \n",
       "3                 (Patriot)    (Gladiator)                 0.6   \n",
       "4               (Gladiator)      (Patriot)                 0.7   \n",
       "5                   (LOTR2)        (LOTR1)                 0.2   \n",
       "6                   (LOTR1)        (LOTR2)                 0.2   \n",
       "7    (Patriot, Sixth Sense)    (Gladiator)                 0.4   \n",
       "8  (Sixth Sense, Gladiator)      (Patriot)                 0.5   \n",
       "\n",
       "   consequent support  support  confidence      lift  leverage  conviction  \n",
       "0                 0.7      0.5    0.833333  1.190476      0.08         1.8  \n",
       "1                 0.6      0.5    0.714286  1.190476      0.08         1.4  \n",
       "2                 0.6      0.2    1.000000  1.666667      0.08         inf  \n",
       "3                 0.7      0.6    1.000000  1.428571      0.18         inf  \n",
       "4                 0.6      0.6    0.857143  1.428571      0.18         2.8  \n",
       "5                 0.2      0.2    1.000000  5.000000      0.16         inf  \n",
       "6                 0.2      0.2    1.000000  5.000000      0.16         inf  \n",
       "7                 0.7      0.4    1.000000  1.428571      0.12         inf  \n",
       "8                 0.6      0.4    0.800000  1.333333      0.10         2.0  "
      ]
     },
     "execution_count": 58,
     "metadata": {},
     "output_type": "execute_result"
    }
   ],
   "source": [
    "rules = association_rules(frequent_itemsets, metric=\"confidence\", min_threshold=0.7)\n",
    "rules"
   ]
  },
  {
   "cell_type": "markdown",
   "id": "badae2d9",
   "metadata": {},
   "source": [
    "# vizulization"
   ]
  },
  {
   "cell_type": "code",
   "execution_count": 69,
   "id": "7b0abc81",
   "metadata": {},
   "outputs": [
    {
     "data": {
      "text/plain": [
       "array([[<AxesSubplot:title={'center':'support'}>,\n",
       "        <AxesSubplot:title={'center':'confidence'}>]], dtype=object)"
      ]
     },
     "execution_count": 69,
     "metadata": {},
     "output_type": "execute_result"
    },
    {
     "data": {
      "image/png": "[encoded data removed]",
      "text/plain": [
       "<Figure size 432x288 with 2 Axes>"
      ]
     },
     "metadata": {
      "needs_background": "light"
     },
     "output_type": "display_data"
    }
   ],
   "source": [
    "rules[[\"support\",'confidence']].hist()"
   ]
  },
  {
   "cell_type": "code",
   "execution_count": 70,
   "id": "f9257b64",
   "metadata": {},
   "outputs": [
    {
     "data": {
      "text/plain": [
       "array([[<AxesSubplot:title={'center':'support'}>,\n",
       "        <AxesSubplot:title={'center':'confidence'}>],\n",
       "       [<AxesSubplot:title={'center':'lift'}>, <AxesSubplot:>]],\n",
       "      dtype=object)"
      ]
     },
     "execution_count": 70,
     "metadata": {},
     "output_type": "execute_result"
    },
    {
     "data": {
      "image/png": "[encoded data removed]",
      "text/plain": [
       "<Figure size 432x288 with 4 Axes>"
      ]
     },
     "metadata": {
      "needs_background": "light"
     },
     "output_type": "display_data"
    }
   ],
   "source": [
    "rules[[\"support\",'confidence','lift']].hist()"
   ]
  },
  {
   "cell_type": "code",
   "execution_count": 81,
   "id": "4a57ca31",
   "metadata": {},
   "outputs": [
    {
     "name": "stderr",
     "output_type": "stream",
     "text": [
      "C:\\Users\\HP\\anaconda3\\lib\\site-packages\\seaborn\\_decorators.py:36: FutureWarning: Pass the following variables as keyword args: x, y. From version 0.12, the only valid positional argument will be `data`, and passing other arguments without an explicit keyword will result in an error or misinterpretation.\n",
      "  warnings.warn(\n"
     ]
    },
    {
     "data": {
      "text/plain": [
       "<AxesSubplot:xlabel='support', ylabel='confidence'>"
      ]
     },
     "execution_count": 81,
     "metadata": {},
     "output_type": "execute_result"
    },
    {
     "data": {
      "image/png": "[encoded data removed]",
      "text/plain": [
       "<Figure size 432x288 with 1 Axes>"
      ]
     },
     "metadata": {
      "needs_background": "light"
     },
     "output_type": "display_data"
    }
   ],
   "source": [
    "import seaborn as sns\n",
    "sns.scatterplot(\"support\",\"confidence\",data=rules,hue='antecedents')"
   ]
  },
  {
   "cell_type": "code",
   "execution_count": null,
   "id": "d7d70a35",
   "metadata": {},
   "outputs": [],
   "source": []
  }
 ],
 "metadata": {
  "kernelspec": {
   "display_name": "Python 3",
   "language": "python",
   "name": "python3"
  },
  "language_info": {
   "codemirror_mode": {
    "name": "ipython",
    "version": 3
   },
   "file_extension": ".py",
   "mimetype": "text/x-python",
   "name": "python",
   "nbconvert_exporter": "python",
   "pygments_lexer": "ipython3",
   "version": "3.8.8"
  }
 },
 "nbformat": 4,
 "nbformat_minor": 5
}
